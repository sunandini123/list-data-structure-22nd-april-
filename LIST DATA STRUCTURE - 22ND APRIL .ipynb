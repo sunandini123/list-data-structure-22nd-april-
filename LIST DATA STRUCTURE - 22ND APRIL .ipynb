{
 "cells": [
  {
   "cell_type": "markdown",
   "id": "2685c9d8-6977-43f0-bd9c-9256476bc776",
   "metadata": {},
   "source": [
    "## LIST - DATA STRUCTURE  - 22nd april"
   ]
  },
  {
   "cell_type": "code",
   "execution_count": null,
   "id": "d2181d57-c259-47d8-8780-5ebf546c730f",
   "metadata": {},
   "outputs": [],
   "source": [
    "LIST "
   ]
  },
  {
   "cell_type": "code",
   "execution_count": 37,
   "id": "1ae30494-bb45-4b64-b367-8bc7f1836c45",
   "metadata": {},
   "outputs": [],
   "source": [
    "l=[1,2,3,4,5,6]\n"
   ]
  },
  {
   "cell_type": "code",
   "execution_count": 39,
   "id": "8005c674-c84c-452d-895c-ed9b7f2c6118",
   "metadata": {},
   "outputs": [
    {
     "data": {
      "text/plain": [
       "[1, 2, 3, 4, 5, 6]"
      ]
     },
     "execution_count": 39,
     "metadata": {},
     "output_type": "execute_result"
    }
   ],
   "source": [
    "l"
   ]
  },
  {
   "cell_type": "code",
   "execution_count": 43,
   "id": "3e34008d-a5da-4df2-8d25-b26a3aae7c08",
   "metadata": {},
   "outputs": [],
   "source": [
    "l1=[10,20,30,40,50,60]\n"
   ]
  },
  {
   "cell_type": "code",
   "execution_count": 45,
   "id": "2e050376-ca26-4ae2-85fb-0fd1185f7103",
   "metadata": {},
   "outputs": [
    {
     "data": {
      "text/plain": [
       "[10, 20, 30, 40, 50, 60]"
      ]
     },
     "execution_count": 45,
     "metadata": {},
     "output_type": "execute_result"
    }
   ],
   "source": [
    "l1"
   ]
  },
  {
   "cell_type": "code",
   "execution_count": 47,
   "id": "ff660876-2873-48c9-a602-dde140616b3d",
   "metadata": {},
   "outputs": [],
   "source": [
    "l1.append('nit')"
   ]
  },
  {
   "cell_type": "code",
   "execution_count": 49,
   "id": "fcd0e3e4-1384-47c7-9035-8060ab11354f",
   "metadata": {},
   "outputs": [
    {
     "data": {
      "text/plain": [
       "[10, 20, 30, 40, 50, 60, 'nit']"
      ]
     },
     "execution_count": 49,
     "metadata": {},
     "output_type": "execute_result"
    }
   ],
   "source": [
    "l1"
   ]
  },
  {
   "cell_type": "code",
   "execution_count": 53,
   "id": "18f36c04-c2cc-4b34-bcc3-b0c236ece51d",
   "metadata": {},
   "outputs": [
    {
     "data": {
      "text/plain": [
       "'nit'"
      ]
     },
     "execution_count": 53,
     "metadata": {},
     "output_type": "execute_result"
    }
   ],
   "source": [
    "l1[6]"
   ]
  },
  {
   "cell_type": "code",
   "execution_count": 55,
   "id": "4624e0a4-137d-45eb-bd0f-d2aa9fc0c3c3",
   "metadata": {},
   "outputs": [
    {
     "name": "stdout",
     "output_type": "stream",
     "text": [
      "n\n",
      "i\n",
      "t\n"
     ]
    }
   ],
   "source": [
    "print(l1[6][0])\n",
    "print(l1[6][1])\n",
    "print(l1[6][2])"
   ]
  },
  {
   "cell_type": "code",
   "execution_count": 57,
   "id": "c3c0840c-652a-4c8d-842d-e469a71552c3",
   "metadata": {},
   "outputs": [
    {
     "data": {
      "text/plain": [
       "1"
      ]
     },
     "execution_count": 57,
     "metadata": {},
     "output_type": "execute_result"
    }
   ],
   "source": [
    "l.count(1)"
   ]
  },
  {
   "cell_type": "code",
   "execution_count": null,
   "id": "0fa3c97a-5402-493b-bd2e-5580f0787fa0",
   "metadata": {},
   "outputs": [],
   "source": [
    "count function used to know this product how may times it repeats\n"
   ]
  },
  {
   "cell_type": "code",
   "execution_count": 65,
   "id": "c3585430-b263-4cc2-b8a8-4a5169af6a80",
   "metadata": {},
   "outputs": [],
   "source": [
    "l1.insert(6,32)"
   ]
  },
  {
   "cell_type": "code",
   "execution_count": 67,
   "id": "02e2b9a7-2dc7-4de8-a99b-7b8ca4628ce0",
   "metadata": {},
   "outputs": [
    {
     "data": {
      "text/plain": [
       "[10, 20, 30, 40, 50, 60, 32, 'nit']"
      ]
     },
     "execution_count": 67,
     "metadata": {},
     "output_type": "execute_result"
    }
   ],
   "source": [
    "l1"
   ]
  },
  {
   "cell_type": "code",
   "execution_count": 69,
   "id": "c5b92d77-27e0-49b7-a4ca-1b0f3389b9f9",
   "metadata": {},
   "outputs": [],
   "source": [
    "l1.remove(20)"
   ]
  },
  {
   "cell_type": "code",
   "execution_count": 71,
   "id": "dbe10497-0f79-4366-b35c-07387cb26e37",
   "metadata": {},
   "outputs": [
    {
     "data": {
      "text/plain": [
       "[10, 30, 40, 50, 60, 32, 'nit']"
      ]
     },
     "execution_count": 71,
     "metadata": {},
     "output_type": "execute_result"
    }
   ],
   "source": [
    "l1"
   ]
  },
  {
   "cell_type": "code",
   "execution_count": 73,
   "id": "838ea3b3-e8d7-430d-8ff5-3bd08b664ef2",
   "metadata": {},
   "outputs": [
    {
     "data": {
      "text/plain": [
       "'nit'"
      ]
     },
     "execution_count": 73,
     "metadata": {},
     "output_type": "execute_result"
    }
   ],
   "source": [
    "l1.pop()"
   ]
  },
  {
   "cell_type": "code",
   "execution_count": 75,
   "id": "205dd907-47cd-48f4-b1b1-e4760073e03f",
   "metadata": {},
   "outputs": [
    {
     "data": {
      "text/plain": [
       "[10, 30, 40, 50, 60, 32]"
      ]
     },
     "execution_count": 75,
     "metadata": {},
     "output_type": "execute_result"
    }
   ],
   "source": [
    "l1"
   ]
  },
  {
   "cell_type": "code",
   "execution_count": 77,
   "id": "f37a1ffb-3b0c-4d3f-9647-ce18e20a28dc",
   "metadata": {},
   "outputs": [
    {
     "data": {
      "text/plain": [
       "40"
      ]
     },
     "execution_count": 77,
     "metadata": {},
     "output_type": "execute_result"
    }
   ],
   "source": [
    "l1.pop(2)"
   ]
  },
  {
   "cell_type": "code",
   "execution_count": 79,
   "id": "f8053bf7-651c-47f6-912e-7d6766f4a68b",
   "metadata": {},
   "outputs": [
    {
     "data": {
      "text/plain": [
       "[10, 30, 50, 60, 32]"
      ]
     },
     "execution_count": 79,
     "metadata": {},
     "output_type": "execute_result"
    }
   ],
   "source": [
    "l1"
   ]
  },
  {
   "cell_type": "code",
   "execution_count": 81,
   "id": "67444f1c-e784-4537-aa1d-f9953c6be69c",
   "metadata": {},
   "outputs": [],
   "source": [
    "l1.sort()\n"
   ]
  },
  {
   "cell_type": "code",
   "execution_count": 83,
   "id": "da247888-d607-4078-8ea2-3c6afad9c5a7",
   "metadata": {},
   "outputs": [
    {
     "data": {
      "text/plain": [
       "[10, 30, 32, 50, 60]"
      ]
     },
     "execution_count": 83,
     "metadata": {},
     "output_type": "execute_result"
    }
   ],
   "source": [
    "l1"
   ]
  },
  {
   "cell_type": "code",
   "execution_count": 85,
   "id": "da2ac64e-2079-445a-80f2-63b6de2c07f9",
   "metadata": {},
   "outputs": [],
   "source": [
    "l1.reverse()"
   ]
  },
  {
   "cell_type": "code",
   "execution_count": 87,
   "id": "873b4d25-cbbe-4882-8b55-0fafcfb6bf20",
   "metadata": {},
   "outputs": [
    {
     "data": {
      "text/plain": [
       "[60, 50, 32, 30, 10]"
      ]
     },
     "execution_count": 87,
     "metadata": {},
     "output_type": "execute_result"
    }
   ],
   "source": [
    "l1"
   ]
  },
  {
   "cell_type": "code",
   "execution_count": 89,
   "id": "24158354-fcf8-4df2-8cc5-39d5ca0c7ae7",
   "metadata": {},
   "outputs": [
    {
     "name": "stdout",
     "output_type": "stream",
     "text": [
      "[60, 50, 32, 30, 10, 1, 2, 3, 4, 5, 6]\n"
     ]
    }
   ],
   "source": [
    "l1.extend(l)\n",
    "print(l1)"
   ]
  },
  {
   "cell_type": "code",
   "execution_count": 91,
   "id": "cede9001-e2f2-46f4-a993-b48c603c8b38",
   "metadata": {},
   "outputs": [
    {
     "data": {
      "text/plain": [
       "[60, 50, 32, 30, 10, 1, 2, 3, 4, 5, 6]"
      ]
     },
     "execution_count": 91,
     "metadata": {},
     "output_type": "execute_result"
    }
   ],
   "source": [
    "l1"
   ]
  },
  {
   "cell_type": "code",
   "execution_count": 93,
   "id": "4efdea57-4dd7-4b28-a0a9-f19f29ad5c38",
   "metadata": {},
   "outputs": [
    {
     "data": {
      "text/plain": [
       "[1, 2, 3, 4, 5, 6]"
      ]
     },
     "execution_count": 93,
     "metadata": {},
     "output_type": "execute_result"
    }
   ],
   "source": [
    "l"
   ]
  },
  {
   "cell_type": "code",
   "execution_count": null,
   "id": "a340f7c0-2841-432c-96b3-731b9d532a21",
   "metadata": {},
   "outputs": [],
   "source": []
  }
 ],
 "metadata": {
  "kernelspec": {
   "display_name": "Python [conda env:base] *",
   "language": "python",
   "name": "conda-base-py"
  },
  "language_info": {
   "codemirror_mode": {
    "name": "ipython",
    "version": 3
   },
   "file_extension": ".py",
   "mimetype": "text/x-python",
   "name": "python",
   "nbconvert_exporter": "python",
   "pygments_lexer": "ipython3",
   "version": "3.12.7"
  }
 },
 "nbformat": 4,
 "nbformat_minor": 5
}
